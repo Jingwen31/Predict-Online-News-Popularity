{
 "cells": [
  {
   "cell_type": "markdown",
   "metadata": {},
   "source": [
    "# Predicting Online News Popularity\n",
    "### Xiao Chu, Zhentao Hou, Jingwen Yu\n",
    "<br></br>"
   ]
  },
  {
   "cell_type": "code",
   "execution_count": 1,
   "metadata": {},
   "outputs": [],
   "source": [
    "# general imports\n",
    "import pandas as pd\n",
    "import numpy as np\n",
    "import matplotlib.pyplot as plt\n",
    "import seaborn as sns\n",
    "from calendar import day_name\n",
    "from rfpimp import *\n",
    "\n",
    "from sklearn.linear_model import LassoCV, RidgeCV, LogisticRegressionCV\n",
    "from sklearn.neighbors import KNeighborsClassifier\n",
    "from sklearn.naive_bayes import GaussianNB\n",
    "from sklearn.ensemble import RandomForestRegressor, RandomForestClassifier\n",
    "from sklearn.model_selection import train_test_split, cross_val_score\n",
    "from sklearn.metrics import r2_score, mean_absolute_error, median_absolute_error, accuracy_score, precision_score,\\\n",
    "                            recall_score, f1_score, confusion_matrix, classification_report\n",
    "from sklearn.compose import ColumnTransformer\n",
    "from sklearn.preprocessing import StandardScaler\n",
    "from sklearn.pipeline import Pipeline\n",
    "\n",
    "pd.set_option('display.max_columns', 62)"
   ]
  },
  {
   "cell_type": "markdown",
   "metadata": {},
   "source": [
    "# Load Data"
   ]
  },
  {
   "cell_type": "code",
   "execution_count": 2,
   "metadata": {},
   "outputs": [
    {
     "data": {
      "text/html": [
       "<div>\n",
       "<style scoped>\n",
       "    .dataframe tbody tr th:only-of-type {\n",
       "        vertical-align: middle;\n",
       "    }\n",
       "\n",
       "    .dataframe tbody tr th {\n",
       "        vertical-align: top;\n",
       "    }\n",
       "\n",
       "    .dataframe thead th {\n",
       "        text-align: right;\n",
       "    }\n",
       "</style>\n",
       "<table border=\"1\" class=\"dataframe\">\n",
       "  <thead>\n",
       "    <tr style=\"text-align: right;\">\n",
       "      <th></th>\n",
       "      <th>url</th>\n",
       "      <th>timedelta</th>\n",
       "      <th>n_tokens_title</th>\n",
       "      <th>n_tokens_content</th>\n",
       "      <th>n_unique_tokens</th>\n",
       "      <th>n_non_stop_words</th>\n",
       "      <th>n_non_stop_unique_tokens</th>\n",
       "      <th>num_hrefs</th>\n",
       "      <th>num_self_hrefs</th>\n",
       "      <th>num_imgs</th>\n",
       "      <th>num_videos</th>\n",
       "      <th>average_token_length</th>\n",
       "      <th>num_keywords</th>\n",
       "      <th>data_channel_is_lifestyle</th>\n",
       "      <th>data_channel_is_entertainment</th>\n",
       "      <th>data_channel_is_bus</th>\n",
       "      <th>data_channel_is_socmed</th>\n",
       "      <th>data_channel_is_tech</th>\n",
       "      <th>data_channel_is_world</th>\n",
       "      <th>kw_min_min</th>\n",
       "      <th>kw_max_min</th>\n",
       "      <th>kw_avg_min</th>\n",
       "      <th>kw_min_max</th>\n",
       "      <th>kw_max_max</th>\n",
       "      <th>kw_avg_max</th>\n",
       "      <th>kw_min_avg</th>\n",
       "      <th>kw_max_avg</th>\n",
       "      <th>kw_avg_avg</th>\n",
       "      <th>self_reference_min_shares</th>\n",
       "      <th>self_reference_max_shares</th>\n",
       "      <th>self_reference_avg_sharess</th>\n",
       "      <th>weekday_is_monday</th>\n",
       "      <th>weekday_is_tuesday</th>\n",
       "      <th>weekday_is_wednesday</th>\n",
       "      <th>weekday_is_thursday</th>\n",
       "      <th>weekday_is_friday</th>\n",
       "      <th>weekday_is_saturday</th>\n",
       "      <th>weekday_is_sunday</th>\n",
       "      <th>is_weekend</th>\n",
       "      <th>LDA_00</th>\n",
       "      <th>LDA_01</th>\n",
       "      <th>LDA_02</th>\n",
       "      <th>LDA_03</th>\n",
       "      <th>LDA_04</th>\n",
       "      <th>global_subjectivity</th>\n",
       "      <th>global_sentiment_polarity</th>\n",
       "      <th>global_rate_positive_words</th>\n",
       "      <th>global_rate_negative_words</th>\n",
       "      <th>rate_positive_words</th>\n",
       "      <th>rate_negative_words</th>\n",
       "      <th>avg_positive_polarity</th>\n",
       "      <th>min_positive_polarity</th>\n",
       "      <th>max_positive_polarity</th>\n",
       "      <th>avg_negative_polarity</th>\n",
       "      <th>min_negative_polarity</th>\n",
       "      <th>max_negative_polarity</th>\n",
       "      <th>title_subjectivity</th>\n",
       "      <th>title_sentiment_polarity</th>\n",
       "      <th>abs_title_subjectivity</th>\n",
       "      <th>abs_title_sentiment_polarity</th>\n",
       "      <th>shares</th>\n",
       "    </tr>\n",
       "  </thead>\n",
       "  <tbody>\n",
       "    <tr>\n",
       "      <th>0</th>\n",
       "      <td>http://mashable.com/2013/01/07/amazon-instant-...</td>\n",
       "      <td>731.0</td>\n",
       "      <td>12.0</td>\n",
       "      <td>219.0</td>\n",
       "      <td>0.663594</td>\n",
       "      <td>1.0</td>\n",
       "      <td>0.815385</td>\n",
       "      <td>4.0</td>\n",
       "      <td>2.0</td>\n",
       "      <td>1.0</td>\n",
       "      <td>0.0</td>\n",
       "      <td>4.680365</td>\n",
       "      <td>5.0</td>\n",
       "      <td>0.0</td>\n",
       "      <td>1.0</td>\n",
       "      <td>0.0</td>\n",
       "      <td>0.0</td>\n",
       "      <td>0.0</td>\n",
       "      <td>0.0</td>\n",
       "      <td>0.0</td>\n",
       "      <td>0.0</td>\n",
       "      <td>0.0</td>\n",
       "      <td>0.0</td>\n",
       "      <td>0.0</td>\n",
       "      <td>0.0</td>\n",
       "      <td>0.0</td>\n",
       "      <td>0.0</td>\n",
       "      <td>0.0</td>\n",
       "      <td>496.0</td>\n",
       "      <td>496.0</td>\n",
       "      <td>496.000000</td>\n",
       "      <td>1.0</td>\n",
       "      <td>0.0</td>\n",
       "      <td>0.0</td>\n",
       "      <td>0.0</td>\n",
       "      <td>0.0</td>\n",
       "      <td>0.0</td>\n",
       "      <td>0.0</td>\n",
       "      <td>0.0</td>\n",
       "      <td>0.500331</td>\n",
       "      <td>0.378279</td>\n",
       "      <td>0.040005</td>\n",
       "      <td>0.041263</td>\n",
       "      <td>0.040123</td>\n",
       "      <td>0.521617</td>\n",
       "      <td>0.092562</td>\n",
       "      <td>0.045662</td>\n",
       "      <td>0.013699</td>\n",
       "      <td>0.769231</td>\n",
       "      <td>0.230769</td>\n",
       "      <td>0.378636</td>\n",
       "      <td>0.100000</td>\n",
       "      <td>0.7</td>\n",
       "      <td>-0.350000</td>\n",
       "      <td>-0.600</td>\n",
       "      <td>-0.200000</td>\n",
       "      <td>0.500000</td>\n",
       "      <td>-0.187500</td>\n",
       "      <td>0.000000</td>\n",
       "      <td>0.187500</td>\n",
       "      <td>593</td>\n",
       "    </tr>\n",
       "    <tr>\n",
       "      <th>1</th>\n",
       "      <td>http://mashable.com/2013/01/07/ap-samsung-spon...</td>\n",
       "      <td>731.0</td>\n",
       "      <td>9.0</td>\n",
       "      <td>255.0</td>\n",
       "      <td>0.604743</td>\n",
       "      <td>1.0</td>\n",
       "      <td>0.791946</td>\n",
       "      <td>3.0</td>\n",
       "      <td>1.0</td>\n",
       "      <td>1.0</td>\n",
       "      <td>0.0</td>\n",
       "      <td>4.913725</td>\n",
       "      <td>4.0</td>\n",
       "      <td>0.0</td>\n",
       "      <td>0.0</td>\n",
       "      <td>1.0</td>\n",
       "      <td>0.0</td>\n",
       "      <td>0.0</td>\n",
       "      <td>0.0</td>\n",
       "      <td>0.0</td>\n",
       "      <td>0.0</td>\n",
       "      <td>0.0</td>\n",
       "      <td>0.0</td>\n",
       "      <td>0.0</td>\n",
       "      <td>0.0</td>\n",
       "      <td>0.0</td>\n",
       "      <td>0.0</td>\n",
       "      <td>0.0</td>\n",
       "      <td>0.0</td>\n",
       "      <td>0.0</td>\n",
       "      <td>0.000000</td>\n",
       "      <td>1.0</td>\n",
       "      <td>0.0</td>\n",
       "      <td>0.0</td>\n",
       "      <td>0.0</td>\n",
       "      <td>0.0</td>\n",
       "      <td>0.0</td>\n",
       "      <td>0.0</td>\n",
       "      <td>0.0</td>\n",
       "      <td>0.799756</td>\n",
       "      <td>0.050047</td>\n",
       "      <td>0.050096</td>\n",
       "      <td>0.050101</td>\n",
       "      <td>0.050001</td>\n",
       "      <td>0.341246</td>\n",
       "      <td>0.148948</td>\n",
       "      <td>0.043137</td>\n",
       "      <td>0.015686</td>\n",
       "      <td>0.733333</td>\n",
       "      <td>0.266667</td>\n",
       "      <td>0.286915</td>\n",
       "      <td>0.033333</td>\n",
       "      <td>0.7</td>\n",
       "      <td>-0.118750</td>\n",
       "      <td>-0.125</td>\n",
       "      <td>-0.100000</td>\n",
       "      <td>0.000000</td>\n",
       "      <td>0.000000</td>\n",
       "      <td>0.500000</td>\n",
       "      <td>0.000000</td>\n",
       "      <td>711</td>\n",
       "    </tr>\n",
       "    <tr>\n",
       "      <th>2</th>\n",
       "      <td>http://mashable.com/2013/01/07/apple-40-billio...</td>\n",
       "      <td>731.0</td>\n",
       "      <td>9.0</td>\n",
       "      <td>211.0</td>\n",
       "      <td>0.575130</td>\n",
       "      <td>1.0</td>\n",
       "      <td>0.663866</td>\n",
       "      <td>3.0</td>\n",
       "      <td>1.0</td>\n",
       "      <td>1.0</td>\n",
       "      <td>0.0</td>\n",
       "      <td>4.393365</td>\n",
       "      <td>6.0</td>\n",
       "      <td>0.0</td>\n",
       "      <td>0.0</td>\n",
       "      <td>1.0</td>\n",
       "      <td>0.0</td>\n",
       "      <td>0.0</td>\n",
       "      <td>0.0</td>\n",
       "      <td>0.0</td>\n",
       "      <td>0.0</td>\n",
       "      <td>0.0</td>\n",
       "      <td>0.0</td>\n",
       "      <td>0.0</td>\n",
       "      <td>0.0</td>\n",
       "      <td>0.0</td>\n",
       "      <td>0.0</td>\n",
       "      <td>0.0</td>\n",
       "      <td>918.0</td>\n",
       "      <td>918.0</td>\n",
       "      <td>918.000000</td>\n",
       "      <td>1.0</td>\n",
       "      <td>0.0</td>\n",
       "      <td>0.0</td>\n",
       "      <td>0.0</td>\n",
       "      <td>0.0</td>\n",
       "      <td>0.0</td>\n",
       "      <td>0.0</td>\n",
       "      <td>0.0</td>\n",
       "      <td>0.217792</td>\n",
       "      <td>0.033334</td>\n",
       "      <td>0.033351</td>\n",
       "      <td>0.033334</td>\n",
       "      <td>0.682188</td>\n",
       "      <td>0.702222</td>\n",
       "      <td>0.323333</td>\n",
       "      <td>0.056872</td>\n",
       "      <td>0.009479</td>\n",
       "      <td>0.857143</td>\n",
       "      <td>0.142857</td>\n",
       "      <td>0.495833</td>\n",
       "      <td>0.100000</td>\n",
       "      <td>1.0</td>\n",
       "      <td>-0.466667</td>\n",
       "      <td>-0.800</td>\n",
       "      <td>-0.133333</td>\n",
       "      <td>0.000000</td>\n",
       "      <td>0.000000</td>\n",
       "      <td>0.500000</td>\n",
       "      <td>0.000000</td>\n",
       "      <td>1500</td>\n",
       "    </tr>\n",
       "    <tr>\n",
       "      <th>3</th>\n",
       "      <td>http://mashable.com/2013/01/07/astronaut-notre...</td>\n",
       "      <td>731.0</td>\n",
       "      <td>9.0</td>\n",
       "      <td>531.0</td>\n",
       "      <td>0.503788</td>\n",
       "      <td>1.0</td>\n",
       "      <td>0.665635</td>\n",
       "      <td>9.0</td>\n",
       "      <td>0.0</td>\n",
       "      <td>1.0</td>\n",
       "      <td>0.0</td>\n",
       "      <td>4.404896</td>\n",
       "      <td>7.0</td>\n",
       "      <td>0.0</td>\n",
       "      <td>1.0</td>\n",
       "      <td>0.0</td>\n",
       "      <td>0.0</td>\n",
       "      <td>0.0</td>\n",
       "      <td>0.0</td>\n",
       "      <td>0.0</td>\n",
       "      <td>0.0</td>\n",
       "      <td>0.0</td>\n",
       "      <td>0.0</td>\n",
       "      <td>0.0</td>\n",
       "      <td>0.0</td>\n",
       "      <td>0.0</td>\n",
       "      <td>0.0</td>\n",
       "      <td>0.0</td>\n",
       "      <td>0.0</td>\n",
       "      <td>0.0</td>\n",
       "      <td>0.000000</td>\n",
       "      <td>1.0</td>\n",
       "      <td>0.0</td>\n",
       "      <td>0.0</td>\n",
       "      <td>0.0</td>\n",
       "      <td>0.0</td>\n",
       "      <td>0.0</td>\n",
       "      <td>0.0</td>\n",
       "      <td>0.0</td>\n",
       "      <td>0.028573</td>\n",
       "      <td>0.419300</td>\n",
       "      <td>0.494651</td>\n",
       "      <td>0.028905</td>\n",
       "      <td>0.028572</td>\n",
       "      <td>0.429850</td>\n",
       "      <td>0.100705</td>\n",
       "      <td>0.041431</td>\n",
       "      <td>0.020716</td>\n",
       "      <td>0.666667</td>\n",
       "      <td>0.333333</td>\n",
       "      <td>0.385965</td>\n",
       "      <td>0.136364</td>\n",
       "      <td>0.8</td>\n",
       "      <td>-0.369697</td>\n",
       "      <td>-0.600</td>\n",
       "      <td>-0.166667</td>\n",
       "      <td>0.000000</td>\n",
       "      <td>0.000000</td>\n",
       "      <td>0.500000</td>\n",
       "      <td>0.000000</td>\n",
       "      <td>1200</td>\n",
       "    </tr>\n",
       "    <tr>\n",
       "      <th>4</th>\n",
       "      <td>http://mashable.com/2013/01/07/att-u-verse-apps/</td>\n",
       "      <td>731.0</td>\n",
       "      <td>13.0</td>\n",
       "      <td>1072.0</td>\n",
       "      <td>0.415646</td>\n",
       "      <td>1.0</td>\n",
       "      <td>0.540890</td>\n",
       "      <td>19.0</td>\n",
       "      <td>19.0</td>\n",
       "      <td>20.0</td>\n",
       "      <td>0.0</td>\n",
       "      <td>4.682836</td>\n",
       "      <td>7.0</td>\n",
       "      <td>0.0</td>\n",
       "      <td>0.0</td>\n",
       "      <td>0.0</td>\n",
       "      <td>0.0</td>\n",
       "      <td>1.0</td>\n",
       "      <td>0.0</td>\n",
       "      <td>0.0</td>\n",
       "      <td>0.0</td>\n",
       "      <td>0.0</td>\n",
       "      <td>0.0</td>\n",
       "      <td>0.0</td>\n",
       "      <td>0.0</td>\n",
       "      <td>0.0</td>\n",
       "      <td>0.0</td>\n",
       "      <td>0.0</td>\n",
       "      <td>545.0</td>\n",
       "      <td>16000.0</td>\n",
       "      <td>3151.157895</td>\n",
       "      <td>1.0</td>\n",
       "      <td>0.0</td>\n",
       "      <td>0.0</td>\n",
       "      <td>0.0</td>\n",
       "      <td>0.0</td>\n",
       "      <td>0.0</td>\n",
       "      <td>0.0</td>\n",
       "      <td>0.0</td>\n",
       "      <td>0.028633</td>\n",
       "      <td>0.028794</td>\n",
       "      <td>0.028575</td>\n",
       "      <td>0.028572</td>\n",
       "      <td>0.885427</td>\n",
       "      <td>0.513502</td>\n",
       "      <td>0.281003</td>\n",
       "      <td>0.074627</td>\n",
       "      <td>0.012127</td>\n",
       "      <td>0.860215</td>\n",
       "      <td>0.139785</td>\n",
       "      <td>0.411127</td>\n",
       "      <td>0.033333</td>\n",
       "      <td>1.0</td>\n",
       "      <td>-0.220192</td>\n",
       "      <td>-0.500</td>\n",
       "      <td>-0.050000</td>\n",
       "      <td>0.454545</td>\n",
       "      <td>0.136364</td>\n",
       "      <td>0.045455</td>\n",
       "      <td>0.136364</td>\n",
       "      <td>505</td>\n",
       "    </tr>\n",
       "  </tbody>\n",
       "</table>\n",
       "</div>"
      ],
      "text/plain": [
       "                                                 url  timedelta  \\\n",
       "0  http://mashable.com/2013/01/07/amazon-instant-...      731.0   \n",
       "1  http://mashable.com/2013/01/07/ap-samsung-spon...      731.0   \n",
       "2  http://mashable.com/2013/01/07/apple-40-billio...      731.0   \n",
       "3  http://mashable.com/2013/01/07/astronaut-notre...      731.0   \n",
       "4   http://mashable.com/2013/01/07/att-u-verse-apps/      731.0   \n",
       "\n",
       "   n_tokens_title  n_tokens_content  n_unique_tokens  n_non_stop_words  \\\n",
       "0            12.0             219.0         0.663594               1.0   \n",
       "1             9.0             255.0         0.604743               1.0   \n",
       "2             9.0             211.0         0.575130               1.0   \n",
       "3             9.0             531.0         0.503788               1.0   \n",
       "4            13.0            1072.0         0.415646               1.0   \n",
       "\n",
       "   n_non_stop_unique_tokens  num_hrefs  num_self_hrefs  num_imgs  num_videos  \\\n",
       "0                  0.815385        4.0             2.0       1.0         0.0   \n",
       "1                  0.791946        3.0             1.0       1.0         0.0   \n",
       "2                  0.663866        3.0             1.0       1.0         0.0   \n",
       "3                  0.665635        9.0             0.0       1.0         0.0   \n",
       "4                  0.540890       19.0            19.0      20.0         0.0   \n",
       "\n",
       "   average_token_length  num_keywords  data_channel_is_lifestyle  \\\n",
       "0              4.680365           5.0                        0.0   \n",
       "1              4.913725           4.0                        0.0   \n",
       "2              4.393365           6.0                        0.0   \n",
       "3              4.404896           7.0                        0.0   \n",
       "4              4.682836           7.0                        0.0   \n",
       "\n",
       "   data_channel_is_entertainment  data_channel_is_bus  data_channel_is_socmed  \\\n",
       "0                            1.0                  0.0                     0.0   \n",
       "1                            0.0                  1.0                     0.0   \n",
       "2                            0.0                  1.0                     0.0   \n",
       "3                            1.0                  0.0                     0.0   \n",
       "4                            0.0                  0.0                     0.0   \n",
       "\n",
       "   data_channel_is_tech  data_channel_is_world  kw_min_min  kw_max_min  \\\n",
       "0                   0.0                    0.0         0.0         0.0   \n",
       "1                   0.0                    0.0         0.0         0.0   \n",
       "2                   0.0                    0.0         0.0         0.0   \n",
       "3                   0.0                    0.0         0.0         0.0   \n",
       "4                   1.0                    0.0         0.0         0.0   \n",
       "\n",
       "   kw_avg_min  kw_min_max  kw_max_max  kw_avg_max  kw_min_avg  kw_max_avg  \\\n",
       "0         0.0         0.0         0.0         0.0         0.0         0.0   \n",
       "1         0.0         0.0         0.0         0.0         0.0         0.0   \n",
       "2         0.0         0.0         0.0         0.0         0.0         0.0   \n",
       "3         0.0         0.0         0.0         0.0         0.0         0.0   \n",
       "4         0.0         0.0         0.0         0.0         0.0         0.0   \n",
       "\n",
       "   kw_avg_avg  self_reference_min_shares  self_reference_max_shares  \\\n",
       "0         0.0                      496.0                      496.0   \n",
       "1         0.0                        0.0                        0.0   \n",
       "2         0.0                      918.0                      918.0   \n",
       "3         0.0                        0.0                        0.0   \n",
       "4         0.0                      545.0                    16000.0   \n",
       "\n",
       "   self_reference_avg_sharess  weekday_is_monday  weekday_is_tuesday  \\\n",
       "0                  496.000000                1.0                 0.0   \n",
       "1                    0.000000                1.0                 0.0   \n",
       "2                  918.000000                1.0                 0.0   \n",
       "3                    0.000000                1.0                 0.0   \n",
       "4                 3151.157895                1.0                 0.0   \n",
       "\n",
       "   weekday_is_wednesday  weekday_is_thursday  weekday_is_friday  \\\n",
       "0                   0.0                  0.0                0.0   \n",
       "1                   0.0                  0.0                0.0   \n",
       "2                   0.0                  0.0                0.0   \n",
       "3                   0.0                  0.0                0.0   \n",
       "4                   0.0                  0.0                0.0   \n",
       "\n",
       "   weekday_is_saturday  weekday_is_sunday  is_weekend    LDA_00    LDA_01  \\\n",
       "0                  0.0                0.0         0.0  0.500331  0.378279   \n",
       "1                  0.0                0.0         0.0  0.799756  0.050047   \n",
       "2                  0.0                0.0         0.0  0.217792  0.033334   \n",
       "3                  0.0                0.0         0.0  0.028573  0.419300   \n",
       "4                  0.0                0.0         0.0  0.028633  0.028794   \n",
       "\n",
       "     LDA_02    LDA_03    LDA_04  global_subjectivity  \\\n",
       "0  0.040005  0.041263  0.040123             0.521617   \n",
       "1  0.050096  0.050101  0.050001             0.341246   \n",
       "2  0.033351  0.033334  0.682188             0.702222   \n",
       "3  0.494651  0.028905  0.028572             0.429850   \n",
       "4  0.028575  0.028572  0.885427             0.513502   \n",
       "\n",
       "   global_sentiment_polarity  global_rate_positive_words  \\\n",
       "0                   0.092562                    0.045662   \n",
       "1                   0.148948                    0.043137   \n",
       "2                   0.323333                    0.056872   \n",
       "3                   0.100705                    0.041431   \n",
       "4                   0.281003                    0.074627   \n",
       "\n",
       "   global_rate_negative_words  rate_positive_words  rate_negative_words  \\\n",
       "0                    0.013699             0.769231             0.230769   \n",
       "1                    0.015686             0.733333             0.266667   \n",
       "2                    0.009479             0.857143             0.142857   \n",
       "3                    0.020716             0.666667             0.333333   \n",
       "4                    0.012127             0.860215             0.139785   \n",
       "\n",
       "   avg_positive_polarity  min_positive_polarity  max_positive_polarity  \\\n",
       "0               0.378636               0.100000                    0.7   \n",
       "1               0.286915               0.033333                    0.7   \n",
       "2               0.495833               0.100000                    1.0   \n",
       "3               0.385965               0.136364                    0.8   \n",
       "4               0.411127               0.033333                    1.0   \n",
       "\n",
       "   avg_negative_polarity  min_negative_polarity  max_negative_polarity  \\\n",
       "0              -0.350000                 -0.600              -0.200000   \n",
       "1              -0.118750                 -0.125              -0.100000   \n",
       "2              -0.466667                 -0.800              -0.133333   \n",
       "3              -0.369697                 -0.600              -0.166667   \n",
       "4              -0.220192                 -0.500              -0.050000   \n",
       "\n",
       "   title_subjectivity  title_sentiment_polarity  abs_title_subjectivity  \\\n",
       "0            0.500000                 -0.187500                0.000000   \n",
       "1            0.000000                  0.000000                0.500000   \n",
       "2            0.000000                  0.000000                0.500000   \n",
       "3            0.000000                  0.000000                0.500000   \n",
       "4            0.454545                  0.136364                0.045455   \n",
       "\n",
       "   abs_title_sentiment_polarity  shares  \n",
       "0                      0.187500     593  \n",
       "1                      0.000000     711  \n",
       "2                      0.000000    1500  \n",
       "3                      0.000000    1200  \n",
       "4                      0.136364     505  "
      ]
     },
     "execution_count": 2,
     "metadata": {},
     "output_type": "execute_result"
    }
   ],
   "source": [
    "# load data\n",
    "news = pd.read_csv(\"OnlineNewsPopularity.csv\")\n",
    "\n",
    "# delete the white space before each column name\n",
    "news.columns = [col.strip(\" \") for col in news.columns]\n",
    "news.head()"
   ]
  },
  {
   "cell_type": "markdown",
   "metadata": {},
   "source": [
    "# Exploratory Data Analysis"
   ]
  },
  {
   "cell_type": "markdown",
   "metadata": {},
   "source": [
    "## TODO: insert target exploration"
   ]
  },
  {
   "cell_type": "code",
   "execution_count": null,
   "metadata": {},
   "outputs": [],
   "source": []
  },
  {
   "cell_type": "markdown",
   "metadata": {},
   "source": [
    "## Feature Exploration"
   ]
  },
  {
   "cell_type": "markdown",
   "metadata": {},
   "source": [
    "First, we checked the feature correlation heatmap and most of the features are uncorrelated."
   ]
  },
  {
   "cell_type": "code",
   "execution_count": null,
   "metadata": {
    "scrolled": true
   },
   "outputs": [],
   "source": [
    "# plot the feature correlation heatmap\n",
    "corr = plot_corr_heatmap(news, figsize=(20, 20), label_fontsize=9, value_fontsize=7)  # from rfpimp package\n",
    "corr.view()"
   ]
  },
  {
   "cell_type": "markdown",
   "metadata": {},
   "source": [
    "Then, we explored the relationship between the target (number of shares) and some selected features:\n",
    "1. number of words in the content vs number of shares\n",
    "2. text sentiment polarity vs number of shares"
   ]
  },
  {
   "cell_type": "code",
   "execution_count": null,
   "metadata": {},
   "outputs": [],
   "source": [
    "# number of words in the content vs number of shares\n",
    "plt.scatter(news[\"n_tokens_content\"], news[\"shares\"])\n",
    "plt.title(\"Content Lengths vs Number of Shares\", size=15)\n",
    "plt.xlabel(\"Number of Words\", size=12)\n",
    "plt.ylabel(\"Number of Shares\", size=12)\n",
    "plt.show()"
   ]
  },
  {
   "cell_type": "code",
   "execution_count": null,
   "metadata": {},
   "outputs": [],
   "source": [
    "# text sentiment polarity vs number of shares\n",
    "plt.scatter(news[\"global_sentiment_polarity\"], news[\"shares\"])\n",
    "plt.title(\"Text Sentiment Polarity vs Number of Shares\", size=15)\n",
    "plt.xlabel(\"Polarity Score\", size=12)\n",
    "plt.ylabel(\"Number of Shares\", size=12)\n",
    "plt.show()"
   ]
  },
  {
   "cell_type": "markdown",
   "metadata": {},
   "source": [
    "# Plots"
   ]
  },
  {
   "cell_type": "code",
   "execution_count": null,
   "metadata": {},
   "outputs": [],
   "source": [
    "# by day of the week\n",
    "news_dow = news.iloc[:, 31:39]\n",
    "news_dow = pd.DataFrame(np.argmax(np.array(news_dow), axis=1))\n",
    "news_dow[\"day_name\"] = news_dow.applymap(lambda x: day_name[x])\n",
    "news_dow = pd.concat([news_dow, news_binary_median[[\"shares\", \"popularity\"]]], axis=1)\n",
    "news_dow.columns = [\"dow\", \"dow_name\", \"counts\", \"popularity\"]\n",
    "news_dow[\"popularity\"] = news_dow[\"popularity\"].apply(lambda x: \"popular\" if x else \"unpopular\")\n",
    "popularity_dow = news_dow.groupby([\"dow\", \"dow_name\", \"popularity\"])[\"counts\"].count().reset_index()\n",
    "popularity_dow"
   ]
  },
  {
   "cell_type": "code",
   "execution_count": null,
   "metadata": {},
   "outputs": [],
   "source": [
    "# plot news popularity based on day of the week\n",
    "plt.figure(figsize=(11, 8.5))\n",
    "sns.barplot(x=\"dow_name\", y=\"counts\", hue=\"popularity\", data=popularity_dow, palette=[\"C3\", \"C0\"])\n",
    "plt.title(\"News Popularity vs Day of the Week\\n\", size=24)\n",
    "plt.xlabel(\"\\nDay of the Week\", size=15)\n",
    "plt.xticks(size=15)\n",
    "plt.ylabel(\"News Count\\n\", size=15)\n",
    "plt.yticks(size=15)\n",
    "plt.legend(fontsize=15)\n",
    "plt.savefig(fname=\"Popularity by DOW\", dpi=300)\n",
    "plt.show()"
   ]
  },
  {
   "cell_type": "code",
   "execution_count": null,
   "metadata": {},
   "outputs": [],
   "source": [
    "# by channel\n",
    "channel_dict = {0: \"Lifestyle\", 1: \"Entertainment\", 2: \"Business\", 3: \"Social Media\", 4: \"Technology\", 5: \"World\",\n",
    "                6: \"Other\"}\n",
    "news_channel = news.iloc[:, 13:19]\n",
    "news_channel = news_channel.assign(Other=1)\n",
    "news_channel = pd.DataFrame(np.argmax(np.array(news_channel), axis=1))\n",
    "news_channel[\"channel_name\"] = news_channel.applymap(lambda x: channel_dict[x])\n",
    "news_channel = pd.concat([news_channel, news_binary_median[[\"shares\", \"popularity\"]]], axis=1)\n",
    "news_channel.columns = [\"channel\", \"channel_name\", \"counts\", \"popularity\"]\n",
    "news_channel[\"popularity\"] = news_channel[\"popularity\"].apply(lambda x: \"popular\" if x else \"unpopular\")\n",
    "popularity_channel = news_channel.groupby([\"channel\", \"channel_name\", \"popularity\"])[\"counts\"].count().reset_index()\n",
    "order = list(popularity_channel[popularity_channel[\"popularity\"] == \"popular\"]\n",
    "             .sort_values(\"counts\", ascending=False)[\"channel_name\"])\n",
    "popularity_channel"
   ]
  },
  {
   "cell_type": "code",
   "execution_count": null,
   "metadata": {},
   "outputs": [],
   "source": [
    "# plot news popularity based on news channel\n",
    "plt.figure(figsize=(14, 11))\n",
    "sns.barplot(x=\"channel_name\", y=\"counts\", hue=\"popularity\", order=order, data=popularity_channel, palette=[\"C3\", \"C0\"])\n",
    "plt.title(\"News Popularity vs News Channel\\n\", size=24)\n",
    "plt.xlabel(\"\\nNews Channel\", size=15)\n",
    "plt.xticks(size=15)\n",
    "plt.ylabel(\"News Count\\n\", size=15)\n",
    "plt.yticks(size=15)\n",
    "plt.legend(fontsize=15)\n",
    "plt.savefig(fname=\"Popularity by Channel\", dpi=300)\n",
    "plt.show()"
   ]
  },
  {
   "cell_type": "code",
   "execution_count": null,
   "metadata": {},
   "outputs": [],
   "source": [
    "median_threshold = news_binary_median.groupby(\"popularity\")[\"shares\"].count()"
   ]
  },
  {
   "cell_type": "code",
   "execution_count": null,
   "metadata": {},
   "outputs": [],
   "source": [
    "mean_threshold = news_binary_mean.groupby(\"popularity\")[\"shares\"].count()"
   ]
  },
  {
   "cell_type": "code",
   "execution_count": null,
   "metadata": {},
   "outputs": [],
   "source": [
    "popularity_threshold = pd.concat([median_threshold, mean_threshold], axis=0).reset_index()\n",
    "popularity_threshold[\"threshold\"] = [\"median\", \"median\", \"mean\", \"mean\"]\n",
    "popularity_threshold.columns = [\"popularity\", \"counts\", \"threshold\"]\n",
    "popularity_threshold[\"popularity\"] = (popularity_threshold[\"popularity\"]\n",
    "                                      .apply(lambda x: \"popular\" if x else \"unpopular\"))\n",
    "popularity_threshold"
   ]
  },
  {
   "cell_type": "code",
   "execution_count": null,
   "metadata": {},
   "outputs": [],
   "source": [
    "# plot news popularity threshold\n",
    "plt.figure(figsize=(7, 5))\n",
    "sns.barplot(x=\"threshold\", y=\"counts\", hue=\"popularity\", data=popularity_threshold, palette=[\"C0\", \"C3\"])\n",
    "plt.title(\"Number of Class Instances vs Different Thresholds\\n\", size=16)\n",
    "plt.xlabel(\"Threshold\", size=14)\n",
    "plt.xticks(size=12)\n",
    "plt.ylabel(\"Number of Class Instances\", size=14)\n",
    "plt.yticks(size=12)\n",
    "plt.legend(fontsize=12)\n",
    "plt.savefig(fname=\"Threshold\", dpi=100)\n",
    "plt.show()"
   ]
  },
  {
   "cell_type": "markdown",
   "metadata": {},
   "source": [
    "# Modeling"
   ]
  },
  {
   "cell_type": "markdown",
   "metadata": {},
   "source": [
    "## Part (a). Regression\n",
    "Initially, regression models were used to predict the number of shares of a piece of news. All features except for news url and timedelta were included in the model. StandardScaler() was applied to numerical features. Pipelines were created for each regression algorithm."
   ]
  },
  {
   "cell_type": "code",
   "execution_count": null,
   "metadata": {},
   "outputs": [],
   "source": [
    "# choose features and target\n",
    "X = news.iloc[:, 2:60]  # all columns except url and target\n",
    "y = news[\"shares\"].values.ravel()  # target: number of shares\n",
    "\n",
    "# train test split\n",
    "X_train, X_test, y_train, y_test = train_test_split(X, y, test_size=0.2, shuffle=True)"
   ]
  },
  {
   "cell_type": "code",
   "execution_count": null,
   "metadata": {},
   "outputs": [],
   "source": [
    "# function to create pipelines for different regression algorithms\n",
    "def regr_pipeline():\n",
    "    \"\"\"\n",
    "    Create a pipeline for each regression algorithm:\n",
    "    1. Lasso\n",
    "    2. Ridge\n",
    "    3. Random Forest Regressor\n",
    "    \n",
    "    Use StandardScaler() on numerical features if necessary.\n",
    "    Return a list of pipelines.\n",
    "    \"\"\"\n",
    "    num_indices = [0, 1, 2, 3, 4, 5, 6, 7, 8, 9, 10, 17, 18, 19, 20, 21, 22, 23, 24, 25, 26, 27, 28, 37, 38, 39, 40,\n",
    "                   41, 42, 43, 44, 45, 46, 47, 48, 49, 50, 51, 52, 53, 54, 55, 56, 57]\n",
    "    num_transformer = Pipeline(steps=[(\"scaler\", StandardScaler())])\n",
    "    preprocessor = ColumnTransformer(transformers=[(\"num\", num_transformer, num_indices)], remainder=\"passthrough\")\n",
    "    \n",
    "    lasso = Pipeline(steps=[(\"preprocessor\", preprocessor),\n",
    "                            (\"regressor\", LassoCV(cv=5, max_iter=500))])\n",
    "    ridge = Pipeline(steps=[(\"preprocessor\", preprocessor), (\"regressor\", RidgeCV(cv=5))])\n",
    "    rf_regr = Pipeline(steps=[(\"regressor\", RandomForestRegressor(n_estimators=100))])\n",
    "    pipelines = [lasso, ridge, rf_regr]\n",
    "    return pipelines"
   ]
  },
  {
   "cell_type": "code",
   "execution_count": null,
   "metadata": {},
   "outputs": [],
   "source": [
    "# fit models with train data\n",
    "# look at model performance on test data\n",
    "# evaluation metrics include r^2, mean absolute error and median absolute error\n",
    "regr_pipelines = regr_pipeline()\n",
    "regr_eval = []\n",
    "\n",
    "for pipeline in regr_pipelines:\n",
    "    pipeline.fit(X_train, y_train)\n",
    "    y_pred = pipeline.predict(X_test)\n",
    "    \n",
    "    model_name = pipeline.named_steps['regressor'].__class__.__name__.split('.')[-1]\n",
    "    r2 = r2_score(y_test, y_pred)\n",
    "    mae = mean_absolute_error(y_test, y_pred)\n",
    "    medae = median_absolute_error(y_test, y_pred)\n",
    "    regr_eval.append([model_name, r2, mae, medae])"
   ]
  },
  {
   "cell_type": "code",
   "execution_count": null,
   "metadata": {},
   "outputs": [],
   "source": [
    "# look at evaluation metrics\n",
    "regr_eval = pd.DataFrame(regr_eval)\n",
    "regr_eval.columns = [\"model\", \"r2\", \"mean absolute error\", \"median absolute error\"]\n",
    "regr_eval"
   ]
  },
  {
   "cell_type": "markdown",
   "metadata": {},
   "source": [
    "## Part (b). Binary Classification\n",
    "Using regression models results in large median absolute errors, so we thought classification models may actually make more sense for this problem. All features except for news url and timedelta were included in the model. StandardScaler() was applied to numerical features. Pipelines were created for each classification algorithm."
   ]
  },
  {
   "cell_type": "markdown",
   "metadata": {},
   "source": [
    "# TODO: insert distribution with different thresholds"
   ]
  },
  {
   "cell_type": "code",
   "execution_count": null,
   "metadata": {},
   "outputs": [],
   "source": []
  },
  {
   "cell_type": "markdown",
   "metadata": {},
   "source": [
    "If the mean number of shares (3395) is used as the threshold, the popular and unpopular classes would be imbalanced. Additionally, the large range of number of shares would make the mean not appropriate to divide the news into two classes. Therefore, we decided to choose the median number of shares as the threshold."
   ]
  },
  {
   "cell_type": "markdown",
   "metadata": {},
   "source": [
    "### Use the median number of shares as threshold"
   ]
  },
  {
   "cell_type": "code",
   "execution_count": 3,
   "metadata": {},
   "outputs": [],
   "source": [
    "# add a column with two classes, 0 for unpopular (shares <= 1400) and 1 for popular (shares > 1400)\n",
    "median = np.median(news[\"shares\"])\n",
    "news_binary_median = news.assign(popularity=0)\n",
    "news_binary_median.loc[news_binary_median[\"shares\"] > median, \"popularity\"] = 1"
   ]
  },
  {
   "cell_type": "code",
   "execution_count": 4,
   "metadata": {},
   "outputs": [],
   "source": [
    "# choose features and target\n",
    "X = news_binary_median.iloc[:, 2:60]  # all columns except url, timedelta and target\n",
    "y = news_binary_median[\"popularity\"].values.ravel()  # target: popularity (two classes, 0 and 1)\n",
    "\n",
    "# train test split using 80-20 rule\n",
    "X_train, X_test, y_train, y_test = train_test_split(X, y, test_size=0.2, shuffle=True)"
   ]
  },
  {
   "cell_type": "markdown",
   "metadata": {},
   "source": [
    "### Build Pipelines"
   ]
  },
  {
   "cell_type": "code",
   "execution_count": 5,
   "metadata": {},
   "outputs": [],
   "source": [
    "# function to create pipelines for different classification algorithms\n",
    "def clf_pipeline():\n",
    "    \"\"\"\n",
    "    Create a pipeline for each classification algorithm:\n",
    "    1. Logistic Regression\n",
    "    2. K-Nearest Neighbors\n",
    "    3. Naive Bayes\n",
    "    4. Random Forest Classifier\n",
    "    \n",
    "    Use StandardScaler() on numerical features if necessary.\n",
    "    Return a list of pipelines.\n",
    "    \"\"\"\n",
    "    num_indices = list(range(11)) + list(range(17, 29)) + list(range(37, 58))  # numerical feature indices\n",
    "    num_transformer = Pipeline(steps=[(\"scaler\", StandardScaler())])\n",
    "    preprocessor = ColumnTransformer(transformers=[(\"num\", num_transformer, num_indices)], remainder=\"passthrough\")\n",
    "    \n",
    "    logistic = Pipeline(steps=[(\"preprocessor\", preprocessor),\n",
    "                               (\"clf\", LogisticRegressionCV(cv=5, max_iter=250, solver=\"lbfgs\"))])\n",
    "    knn = Pipeline(steps=[(\"preprocessor\", preprocessor), (\"clf\", KNeighborsClassifier())])\n",
    "    bayes = Pipeline(steps=[(\"preprocessor\", preprocessor), (\"clf\", GaussianNB())])\n",
    "    rf_clf = Pipeline(steps=[(\"clf\", RandomForestClassifier(n_estimators=100))])\n",
    "    pipelines = [logistic, knn, bayes, rf_clf]\n",
    "    return pipelines"
   ]
  },
  {
   "cell_type": "markdown",
   "metadata": {},
   "source": [
    "### Fit Models"
   ]
  },
  {
   "cell_type": "code",
   "execution_count": null,
   "metadata": {},
   "outputs": [],
   "source": [
    "# fit models with train data\n",
    "# look at model performance on test data\n",
    "# evaluation metrics include accuracy, precision, recall, f1 score, confusion_matrix and classification report\n",
    "clf_pipelines = clf_pipeline()\n",
    "clf_eval = []\n",
    "\n",
    "for pipeline in clf_pipelines:\n",
    "    pipeline.fit(X_train, y_train)\n",
    "    y_pred = pipeline.predict(X_test)\n",
    "    \n",
    "    model_name = pipeline.named_steps['clf'].__class__.__name__.split('.')[-1]\n",
    "    accuracy = accuracy_score(y_test, y_pred)\n",
    "    precision = precision_score(y_test, y_pred)\n",
    "    recall = recall_score(y_test, y_pred)\n",
    "    f1 = f1_score(y_test, y_pred, average=\"weighted\")\n",
    "    conf_mat = confusion_matrix(y_test, y_pred)\n",
    "    clf_report = classification_report(y_test, y_pred)\n",
    "    clf_eval.append([model_name, accuracy, precision, recall, f1, conf_mat, clf_report])\n",
    "\n",
    "# store evaluation metrics in a dataframe\n",
    "clf_eval = pd.DataFrame(clf_eval)\n",
    "clf_eval.columns = [\"model\", \"accuracy\", \"precision\", \"recall\", \"f1 score\", \"confusion matrix\",\n",
    "                    \"classification report\"]"
   ]
  },
  {
   "cell_type": "markdown",
   "metadata": {},
   "source": [
    "### Evaluation Metrics"
   ]
  },
  {
   "cell_type": "code",
   "execution_count": null,
   "metadata": {},
   "outputs": [],
   "source": [
    "# look at model accuracy, precision, recall and F1 score of test data\n",
    "clf_eval[[\"model\", \"accuracy\", \"precision\", \"recall\", \"f1 score\"]]"
   ]
  },
  {
   "cell_type": "code",
   "execution_count": null,
   "metadata": {},
   "outputs": [],
   "source": [
    "# look at model confusion matrix of test data\n",
    "plt.figure(figsize=(11, 8.5))\n",
    "for idx in range(4):\n",
    "    plt.subplot(2, 2, idx + 1)\n",
    "    plt.subplots_adjust(wspace=0.5, hspace=0.4)\n",
    "    ax = sns.heatmap(clf_eval[\"confusion matrix\"][idx], cmap=\"Blues\", annot=True, annot_kws={\"size\": 18}, fmt=\"d\")\n",
    "    ax.set_title(f\"{clf_eval['model'][idx]}\", size=16)\n",
    "    ax.xaxis.set_ticklabels([\"unpopular\", \"popular\"], size=14)\n",
    "    ax.yaxis.set_ticklabels([\"unpopular\", \"popular\"], size=14, rotation=0)"
   ]
  },
  {
   "cell_type": "markdown",
   "metadata": {},
   "source": [
    "## Hyperparameter Tuning\n",
    "\\\n",
    "Grid search and random search were too slow for this dataset. Instead, we used cross validation scores with cv = 5 and manually tuned some hyperparameters of the random forest classifier, including n_estimators, min_samples_leaf and max_features."
   ]
  },
  {
   "cell_type": "code",
   "execution_count": 7,
   "metadata": {},
   "outputs": [
    {
     "name": "stdout",
     "output_type": "stream",
     "text": [
      "n_estimators: 10, cross validation scores: [0.62656942 0.62350799 0.61205663 0.61527021 0.62130108]\n",
      "n_estimators: 30, cross validation scores: [0.64963143 0.64440237 0.64430475 0.65028152 0.65700471]\n",
      "n_estimators: 50, cross validation scores: [0.65805061 0.6516759  0.6397617  0.65558227 0.65705439]\n",
      "n_estimators: 70, cross validation scores: [0.66138772 0.64720973 0.64688532 0.66118354 0.66034694]\n",
      "n_estimators: 90, cross validation scores: [0.65947998 0.6573187  0.654972   0.66725231 0.66812291]\n",
      "n_estimators: 110, cross validation scores: [0.67055151 0.66094996 0.65490839 0.67084481 0.66642662]\n",
      "n_estimators: 130, cross validation scores: [0.66410996 0.65685285 0.65400632 0.66629463 0.66870188]\n"
     ]
    }
   ],
   "source": [
    "# tune n_estimators\n",
    "for num in range(10, 140, 20):\n",
    "    rf = RandomForestClassifier(n_estimators=num)\n",
    "    scores = cross_val_score(rf, X_train, y_train, cv=5, scoring=\"f1_weighted\")\n",
    "    print(f\"n_estimators: {num}, cross validation scores: {scores}\")"
   ]
  },
  {
   "cell_type": "code",
   "execution_count": 8,
   "metadata": {},
   "outputs": [
    {
     "name": "stdout",
     "output_type": "stream",
     "text": [
      "max_features: 4, cross validation scores: [0.66110923 0.65933961 0.65562667 0.66357436 0.66765261]\n",
      "max_features: 5, cross validation scores: [0.67135996 0.65701913 0.65147048 0.67013249 0.66333716]\n",
      "max_features: 6, cross validation scores: [0.66882618 0.65258678 0.65159386 0.66463172 0.66658734]\n",
      "max_features: 7, cross validation scores: [0.66599278 0.64849305 0.64991787 0.66046598 0.66712343]\n",
      "max_features: 8, cross validation scores: [0.66707609 0.65937483 0.6521839  0.66456739 0.67100549]\n"
     ]
    }
   ],
   "source": [
    "# choose n_estimators = 110\n",
    "# tune max_features\n",
    "for num in range(4, 9, 1):\n",
    "    rf = RandomForestClassifier(n_estimators=110, max_features=num)\n",
    "    scores = cross_val_score(rf, X_train, y_train, cv=5, scoring=\"f1_weighted\")\n",
    "    print(f\"max_features: {num}, cross validation scores: {scores}\")"
   ]
  },
  {
   "cell_type": "code",
   "execution_count": 9,
   "metadata": {},
   "outputs": [
    {
     "name": "stdout",
     "output_type": "stream",
     "text": [
      "min_samples_leaf: 1, cross validation scores: [0.67212606 0.66076646 0.65279281 0.66562271 0.66887121]\n",
      "min_samples_leaf: 3, cross validation scores: [0.67151023 0.66458395 0.65217652 0.66581511 0.67043162]\n",
      "min_samples_leaf: 5, cross validation scores: [0.67009837 0.6593832  0.65419266 0.66833512 0.66598092]\n",
      "min_samples_leaf: 7, cross validation scores: [0.66883908 0.66456808 0.65283642 0.67056486 0.67017003]\n"
     ]
    }
   ],
   "source": [
    "# choose n_estimators = 110 and max_features = 5\n",
    "# tune min_samples_leaf\n",
    "for num in range(1, 9, 2):\n",
    "    rf = RandomForestClassifier(n_estimators=110, max_features=5, min_samples_leaf=num)\n",
    "    scores = cross_val_score(rf, X_train, y_train, cv=5, scoring=\"f1_weighted\")\n",
    "    print(f\"min_samples_leaf: {num}, cross validation scores: {scores}\")"
   ]
  },
  {
   "cell_type": "markdown",
   "metadata": {},
   "source": [
    "Based on the results of manually tuning, we noticed that tuning max_features and min_samples_leaf gave very similar results when varying the numbers. Considering the combination of F1 score and efficiency, we decided to choose n_estimators = 100, max_features = 5 and min_samples_leaf = 7 for our final model."
   ]
  },
  {
   "cell_type": "markdown",
   "metadata": {},
   "source": [
    "## Final Model"
   ]
  },
  {
   "cell_type": "code",
   "execution_count": 11,
   "metadata": {},
   "outputs": [
    {
     "data": {
      "text/plain": [
       "RandomForestClassifier(bootstrap=True, class_weight=None, criterion='gini',\n",
       "                       max_depth=None, max_features=5, max_leaf_nodes=None,\n",
       "                       min_impurity_decrease=0.0, min_impurity_split=None,\n",
       "                       min_samples_leaf=7, min_samples_split=2,\n",
       "                       min_weight_fraction_leaf=0.0, n_estimators=110,\n",
       "                       n_jobs=None, oob_score=False, random_state=None,\n",
       "                       verbose=0, warm_start=False)"
      ]
     },
     "execution_count": 11,
     "metadata": {},
     "output_type": "execute_result"
    }
   ],
   "source": [
    "# fit final model with train data\n",
    "final_model = RandomForestClassifier(n_estimators=110, max_features=5, min_samples_leaf=7)\n",
    "final_model.fit(X_train, y_train)"
   ]
  },
  {
   "cell_type": "code",
   "execution_count": 16,
   "metadata": {},
   "outputs": [
    {
     "name": "stdout",
     "output_type": "stream",
     "text": [
      "Accuracy: 0.6674233825198638, F1 Score: 0.6660757249588452\n"
     ]
    }
   ],
   "source": [
    "# North Star Metric: F1 Score\n",
    "# performance on test data\n",
    "y_pred = final_model.predict(X_test)\n",
    "accuracy = accuracy_score(y_test, y_pred)\n",
    "f1 = f1_score(y_test, y_pred)\n",
    "print(f\"Accuracy: {accuracy}, F1 Score: {f1}\")"
   ]
  },
  {
   "cell_type": "code",
   "execution_count": 19,
   "metadata": {},
   "outputs": [
    {
     "data": {
      "image/png": "[encoded data removed]",
      "text/plain": [
       "<Figure size 432x288 with 2 Axes>"
      ]
     },
     "metadata": {
      "needs_background": "light"
     },
     "output_type": "display_data"
    }
   ],
   "source": [
    "# visualize the confusion matrix\n",
    "conf_mat = confusion_matrix(y_test, y_pred)\n",
    "ax = sns.heatmap(conf_mat, cmap=\"Blues\", annot=True, annot_kws={\"size\": 18}, fmt=\"d\")\n",
    "ax.set_title(f\"Confusion Matrix of Final Model\", size=16)\n",
    "ax.xaxis.set_ticklabels([\"unpopular\", \"popular\"], size=14)\n",
    "ax.yaxis.set_ticklabels([\"unpopular\", \"popular\"], size=14, rotation=0)\n",
    "plt.show()"
   ]
  },
  {
   "cell_type": "markdown",
   "metadata": {},
   "source": [
    "## Feature Importance"
   ]
  },
  {
   "cell_type": "code",
   "execution_count": null,
   "metadata": {},
   "outputs": [],
   "source": [
    "# extract feature importance \n",
    "imp = importances(final_model, X_test, pd.DataFrame(y_test))"
   ]
  },
  {
   "cell_type": "code",
   "execution_count": null,
   "metadata": {
    "scrolled": true
   },
   "outputs": [],
   "source": [
    "# plot top 10 feature importance\n",
    "imp_top10 = imp[:10].reset_index()\n",
    "plt.figure(figsize=(8, 6), dpi=100)\n",
    "sns.barplot(x=\"Importance\", y=\"Feature\", data=imp_top10)\n",
    "plt.title(\"Top 10 Important Features\", size=20)\n",
    "plt.xlabel(\"Importance\", size=12)\n",
    "plt.xticks(size=10)\n",
    "plt.ylabel(\"Features\", size=12)\n",
    "plt.yticks(size=10)\n",
    "plt.savefig(fname=\"Importance Features\", dpi=200)\n",
    "plt.show()"
   ]
  },
  {
   "cell_type": "markdown",
   "metadata": {},
   "source": [
    "# Summary\n",
    "For this project, we initially tried to predict the number of shares of a piece of news with regression models. We fitted three algorithms, **Lasso**, **Ridge** and **Random Forest Regressor**, and found that the median absolute error (MedAE) was around 1600, which is very high considering that some news only has a few hundred shares.\\\n",
    "\\\n",
    "We then treated this problem as classification and used the median number of shares (1400) as a threshold to divide the news into two classes, popular and unpopular. We fitted four algorithms, **Logistic Regression**, **K-Nearest Neighbors**, **Gaussian Naive Bayes** and **Random Forest Classifier**, and found that **Random Forest Classifier** has the best performance using F1 score as North Star Metric.\\\n",
    "\\\n",
    "We manually tuned the hyperparameters of random forest classifier based on cross validation scores since grid/random search is too slow for this dataset. Our final model had a **F1 score of 0.67** and **accuracy of 67%** for the test data."
   ]
  },
  {
   "cell_type": "markdown",
   "metadata": {},
   "source": [
    "# Takeaways\n",
    "- Choose an appropriate analysis method (regression/classification)\n",
    "- Recommendations for reporters and business entities:\\\n",
    "(1) Keywords are important.\\\n",
    "(2) Publication time matters.\\\n",
    "(3) Referencing articles with high popularity would be helpful."
   ]
  },
  {
   "cell_type": "code",
   "execution_count": null,
   "metadata": {},
   "outputs": [],
   "source": []
  }
 ],
 "metadata": {
  "kernelspec": {
   "display_name": "Python 3",
   "language": "python",
   "name": "python3"
  },
  "language_info": {
   "codemirror_mode": {
    "name": "ipython",
    "version": 3
   },
   "file_extension": ".py",
   "mimetype": "text/x-python",
   "name": "python",
   "nbconvert_exporter": "python",
   "pygments_lexer": "ipython3",
   "version": "3.7.4"
  }
 },
 "nbformat": 4,
 "nbformat_minor": 2
}
