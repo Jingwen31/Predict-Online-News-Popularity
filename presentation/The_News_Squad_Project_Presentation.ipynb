{
 "cells": [
  {
   "cell_type": "code",
   "execution_count": null,
   "metadata": {
    "slideshow": {
     "slide_type": "skip"
    }
   },
   "outputs": [],
   "source": []
  },
  {
   "cell_type": "code",
   "execution_count": null,
   "metadata": {
    "slideshow": {
     "slide_type": "skip"
    }
   },
   "outputs": [],
   "source": []
  },
  {
   "cell_type": "markdown",
   "metadata": {
    "slideshow": {
     "slide_type": "slide"
    }
   },
   "source": [
    "<center><h1>Predict Online News Popularity</h1></center>\n",
    "<center><h2>The News Squad</h2></center>\n",
    "<center><h4>📸Jingwen Yu, Zhentao Hou, Xiao Chu<center><h4>"
   ]
  },
  {
   "cell_type": "markdown",
   "metadata": {
    "slideshow": {
     "slide_type": "slide"
    }
   },
   "source": [
    "<center><h2>Outline📝</h2></center>\n",
    "\n",
    "1. Ask - Why we care?  \n",
    "2. Acquire - Introduce the dataset  \n",
    "3. Process - EDA and feature engineering  \n",
    "4. Model - Choose the model based on the evaluation metric  \n",
    "5. Deliver - Takeaway  "
   ]
  },
  {
   "cell_type": "markdown",
   "metadata": {
    "slideshow": {
     "slide_type": "slide"
    }
   },
   "source": [
    "<center><h2>🧐Ask - Why we care about news popularity</h2></center>\n",
    "<br></br>\n",
    "  \n",
    "News is an important channel for us to learn what is happening in the world.\n",
    "\\\n",
    "\\\n",
    "A piece of popular news could lead to a successful advertising or public relation activity, contributing great business value to companies."
   ]
  },
  {
   "cell_type": "markdown",
   "metadata": {
    "slideshow": {
     "slide_type": "slide"
    }
   },
   "source": [
    " <center><h2>📩Acquire - Introduce the Dataset</h2></center>\n",
    " \n",
    "1. Number of Features: 58\n",
    "2. Target Column: Number of Shares\n",
    "3. Number of Instances: 39644\n",
    "4. Source: UCI Machine Learning Repository"
   ]
  },
  {
   "cell_type": "markdown",
   "metadata": {
    "slideshow": {
     "slide_type": "slide"
    }
   },
   "source": [
    "<center><h2>📊Process - EDA and Feature Engineering</h2></center>"
   ]
  },
  {
   "cell_type": "markdown",
   "metadata": {
    "slideshow": {
     "slide_type": "slide"
    }
   },
   "source": [
    "<center><h2>Target Exploration -- Raw Dataset</h2></center>\n",
    "\n",
    "#### Target Range from 1 to 843300"
   ]
  },
  {
   "cell_type": "markdown",
   "metadata": {
    "slideshow": {
     "slide_type": "fragment"
    }
   },
   "source": [
    "![pic14.png](picture/pic14.png)"
   ]
  },
  {
   "cell_type": "markdown",
   "metadata": {
    "slideshow": {
     "slide_type": "slide"
    }
   },
   "source": [
    "### Feature Exploration\n",
    "![Picture1.png](picture/Picture1.png)"
   ]
  },
  {
   "cell_type": "markdown",
   "metadata": {
    "slideshow": {
     "slide_type": "slide"
    }
   },
   "source": [
    "<center><h2>💻Model - Evaluation Metric and Model Selection</h2></center>\n",
    "<br></br>\n",
    "\n",
    "Regression Model\n",
    "- Predict Number of Shares ➡️ **Median Absolute Error (MedAE)**"
   ]
  },
  {
   "cell_type": "markdown",
   "metadata": {
    "slideshow": {
     "slide_type": "slide"
    }
   },
   "source": [
    "1. Create Pipelines\n",
    "    - scaler - StandardScaler()\n",
    "    - regressor - Lasso, Ridge, and Random Forest Regressor\n",
    "2. Fit models\n",
    "3. Evaluation"
   ]
  },
  {
   "cell_type": "markdown",
   "metadata": {
    "slideshow": {
     "slide_type": "slide"
    }
   },
   "source": [
    "![Picture2.png](picture/Picture2.png)"
   ]
  },
  {
   "cell_type": "markdown",
   "metadata": {
    "slideshow": {
     "slide_type": "slide"
    }
   },
   "source": [
    "#### Summary\n",
    "- 3 regression algorithms, MedAE as the North Star metric\n",
    "- Large MedAE (> 1600)\n",
    "- Classification might make more sense"
   ]
  },
  {
   "cell_type": "markdown",
   "metadata": {
    "slideshow": {
     "slide_type": "slide"
    }
   },
   "source": [
    "### Classification Model\n",
    "<br></br>\n",
    "- Binary Classification: Predict Popular or Unpopular ➡️ **F1 Score**"
   ]
  },
  {
   "cell_type": "markdown",
   "metadata": {
    "slideshow": {
     "slide_type": "slide"
    }
   },
   "source": [
    "1. Choosing the threshold -- **Mean (3395) or Median (1400)**\n",
    "![pic12.png](picture/pic12.png)"
   ]
  },
  {
   "cell_type": "markdown",
   "metadata": {
    "slideshow": {
     "slide_type": "slide"
    }
   },
   "source": [
    "### Redo the EDA Again 😹\n",
    "### Weekend or Weekday?\n",
    "![pic17.png](picture/pic17.png)"
   ]
  },
  {
   "cell_type": "markdown",
   "metadata": {
    "slideshow": {
     "slide_type": "slide"
    }
   },
   "source": [
    "### Which Channel?\n",
    "![pic15.png](picture/pic15.png)"
   ]
  },
  {
   "cell_type": "markdown",
   "metadata": {
    "slideshow": {
     "slide_type": "slide"
    }
   },
   "source": [
    "2. Build Pipelines\n",
    "    - scaler - StandardScaler()\n",
    "    - classifier - \\\n",
    "      LogisticRegressionCV\\\n",
    "      KNeighborsClassifier\\\n",
    "      GaussianNB\\\n",
    "      RandomForestClassifier"
   ]
  },
  {
   "cell_type": "markdown",
   "metadata": {
    "slideshow": {
     "slide_type": "slide"
    }
   },
   "source": [
    "3. Fit Models & Model Evaluation\n",
    "\n",
    "    - F1-score = $\\frac{2*precision*recall}{precision+recall}$\n",
    "    - F1-score is used when False Negatives and False Positives are crucial\n",
    "    - F1-score is a better metric when there are imbalanced classes"
   ]
  },
  {
   "cell_type": "markdown",
   "metadata": {
    "slideshow": {
     "slide_type": "slide"
    }
   },
   "source": [
    "![WechatIMG71.png](picture/WechatIMG71.png)"
   ]
  },
  {
   "cell_type": "markdown",
   "metadata": {
    "slideshow": {
     "slide_type": "slide"
    }
   },
   "source": [
    "![metrics.png](picture/metrics.png)"
   ]
  },
  {
   "cell_type": "markdown",
   "metadata": {
    "slideshow": {
     "slide_type": "slide"
    }
   },
   "source": [
    "\n",
    "![pic16.png](picture/pic16.png)"
   ]
  },
  {
   "cell_type": "markdown",
   "metadata": {
    "slideshow": {
     "slide_type": "slide"
    }
   },
   "source": [
    "<center><h2>✍🏻Deliver - Takeaway</h2></center>\n",
    "\n",
    "- Using F1-score as the North Star Metric, Random Forest Classifier is the best model.\n",
    "- Recommendations for reporters and business entities:\\\n",
    "(1) Keywords are important.\\\n",
    "(2) Publication time matters.\\\n",
    "(3) Reference articles with high popularity would help."
   ]
  }
 ],
 "metadata": {
  "celltoolbar": "Slideshow",
  "kernelspec": {
   "display_name": "Python 3",
   "language": "python",
   "name": "python3"
  },
  "language_info": {
   "codemirror_mode": {
    "name": "ipython",
    "version": 3
   },
   "file_extension": ".py",
   "mimetype": "text/x-python",
   "name": "python",
   "nbconvert_exporter": "python",
   "pygments_lexer": "ipython3",
   "version": "3.7.4"
  },
  "varInspector": {
   "cols": {
    "lenName": 16,
    "lenType": 16,
    "lenVar": 40
   },
   "kernels_config": {
    "python": {
     "delete_cmd_postfix": "",
     "delete_cmd_prefix": "del ",
     "library": "var_list.py",
     "varRefreshCmd": "print(var_dic_list())"
    },
    "r": {
     "delete_cmd_postfix": ") ",
     "delete_cmd_prefix": "rm(",
     "library": "var_list.r",
     "varRefreshCmd": "cat(var_dic_list()) "
    }
   },
   "types_to_exclude": [
    "module",
    "function",
    "builtin_function_or_method",
    "instance",
    "_Feature"
   ],
   "window_display": false
  }
 },
 "nbformat": 4,
 "nbformat_minor": 2
}
